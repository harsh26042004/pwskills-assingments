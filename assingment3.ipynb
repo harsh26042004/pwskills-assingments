{
 "cells": [
  {
   "cell_type": "code",
   "execution_count": null,
   "id": "2bae5182-f58c-40bc-a4f4-e9b6e68d99b2",
   "metadata": {},
   "outputs": [],
   "source": [
    "l=[]"
   ]
  },
  {
   "cell_type": "code",
   "execution_count": 1,
   "id": "0be4d684-3212-47c5-bc0c-ee3a5945dfea",
   "metadata": {},
   "outputs": [
    {
     "name": "stdout",
     "output_type": "stream",
     "text": [
      "[1, 2, 3, 4, True, 3]\n"
     ]
    }
   ],
   "source": [
    "l=[1,2,3,4,True,False]\n",
    "l[-1]=3\n",
    "print(l)"
   ]
  },
  {
   "cell_type": "code",
   "execution_count": 4,
   "id": "7f5fee5c-9f5e-4876-be86-c35e9b8cd59e",
   "metadata": {},
   "outputs": [
    {
     "name": "stdout",
     "output_type": "stream",
     "text": [
      "3\n"
     ]
    }
   ],
   "source": [
    "print(l[-1])"
   ]
  },
  {
   "cell_type": "code",
   "execution_count": 6,
   "id": "4f3cd670-7c55-4f6a-a74d-0545f429589b",
   "metadata": {},
   "outputs": [
    {
     "name": "stdout",
     "output_type": "stream",
     "text": [
      "[3, False, True, 4, 3, 2, 1]\n"
     ]
    }
   ],
   "source": [
    "print(l[::-1])"
   ]
  },
  {
   "cell_type": "code",
   "execution_count": 9,
   "id": "a59ba5ff-43fe-4698-8aa3-9702935adbc7",
   "metadata": {},
   "outputs": [
    {
     "name": "stdout",
     "output_type": "stream",
     "text": [
      "[False, 1, True, 2, 3, 3, 4]\n"
     ]
    }
   ],
   "source": [
    "l.sort()\n",
    "print(l)"
   ]
  },
  {
   "cell_type": "code",
   "execution_count": 13,
   "id": "a4a2a96d-6f88-410d-81c8-031752107444",
   "metadata": {},
   "outputs": [
    {
     "name": "stdout",
     "output_type": "stream",
     "text": [
      "kuch kuch hota hai\n"
     ]
    }
   ],
   "source": [
    "mo=['Tiger Zinda Hai','kuch kuch hota hai','Fighter']\n",
    "print(mo[1])"
   ]
  },
  {
   "cell_type": "code",
   "execution_count": 21,
   "id": "48d9c907-eaed-4b25-9bce-5c3312a92006",
   "metadata": {},
   "outputs": [
    {
     "name": "stdout",
     "output_type": "stream",
     "text": [
      "Danapur\n"
     ]
    }
   ],
   "source": [
    "city=['Patna','Arrah','Danapur']\n",
    "\n",
    "print(city[2])"
   ]
  },
  {
   "cell_type": "code",
   "execution_count": null,
   "id": "0604962b-c8df-4107-9a71-a700ef0aba43",
   "metadata": {},
   "outputs": [],
   "source": []
  },
  {
   "cell_type": "code",
   "execution_count": null,
   "id": "76d82a81-a13f-4f31-a596-7c670984b0e2",
   "metadata": {},
   "outputs": [],
   "source": []
  },
  {
   "cell_type": "code",
   "execution_count": null,
   "id": "73ebadaa-4794-482c-a74a-ea5eac644adc",
   "metadata": {},
   "outputs": [],
   "source": []
  },
  {
   "cell_type": "code",
   "execution_count": null,
   "id": "67417c8e-655b-4a86-a5a5-58f1d4bdca76",
   "metadata": {},
   "outputs": [],
   "source": []
  },
  {
   "cell_type": "code",
   "execution_count": null,
   "id": "2223c572-dcf0-482f-8d85-f87abff67359",
   "metadata": {},
   "outputs": [],
   "source": []
  },
  {
   "cell_type": "code",
   "execution_count": null,
   "id": "94f9cf28-366d-453b-ac7a-cf3c927bfd7a",
   "metadata": {},
   "outputs": [],
   "source": []
  },
  {
   "cell_type": "code",
   "execution_count": null,
   "id": "697a99d6-f932-4b2c-a050-04a83fa455a5",
   "metadata": {},
   "outputs": [],
   "source": []
  }
 ],
 "metadata": {
  "kernelspec": {
   "display_name": "Python 3 (ipykernel)",
   "language": "python",
   "name": "python3"
  },
  "language_info": {
   "codemirror_mode": {
    "name": "ipython",
    "version": 3
   },
   "file_extension": ".py",
   "mimetype": "text/x-python",
   "name": "python",
   "nbconvert_exporter": "python",
   "pygments_lexer": "ipython3",
   "version": "3.10.8"
  }
 },
 "nbformat": 4,
 "nbformat_minor": 5
}
