{
 "cells": [
  {
   "cell_type": "code",
   "execution_count": null,
   "id": "6a29f355-e60f-4a0f-b14e-bc2d45a31422",
   "metadata": {},
   "outputs": [],
   "source": [
    "#syntax for adding element in list is:\n",
    "#l1=[1,2,3,4]\n",
    "#l1.append(6)"
   ]
  },
  {
   "cell_type": "code",
   "execution_count": null,
   "id": "450d51c7-3f27-40cb-99e0-908a9da0c19e",
   "metadata": {},
   "outputs": [],
   "source": [
    "#the main difference between remove() and pop() is:\n",
    "#in remove we can remove the selected element and in pop() the last element of list is remove."
   ]
  },
  {
   "cell_type": "code",
   "execution_count": 2,
   "id": "f3288fc5-0161-49f3-bdea-559a1a54102e",
   "metadata": {},
   "outputs": [
    {
     "name": "stdout",
     "output_type": "stream",
     "text": [
      "[5, 4, 3, 2, 1]\n"
     ]
    }
   ],
   "source": [
    "l=[1,2,3,4,5]\n",
    "l.sort(reverse=True)\n",
    "print(l)"
   ]
  },
  {
   "cell_type": "code",
   "execution_count": 5,
   "id": "ae7a79f6-a13f-434b-8c70-4556f0e28af7",
   "metadata": {},
   "outputs": [
    {
     "name": "stdout",
     "output_type": "stream",
     "text": [
      "2\n"
     ]
    }
   ],
   "source": [
    "l=[1,1,2,3,4,5]\n",
    "print(l.count(1))"
   ]
  },
  {
   "cell_type": "code",
   "execution_count": 6,
   "id": "8d1f719a-fc98-429c-b2af-0ec876dd5c60",
   "metadata": {},
   "outputs": [
    {
     "name": "stdout",
     "output_type": "stream",
     "text": [
      "[5, 4, 3, 2, 1, 1]\n"
     ]
    }
   ],
   "source": [
    "print(l[::-1])"
   ]
  },
  {
   "cell_type": "code",
   "execution_count": null,
   "id": "72e314a1-0a07-4ed2-aee5-a5e56a168a7f",
   "metadata": {},
   "outputs": [],
   "source": []
  }
 ],
 "metadata": {
  "kernelspec": {
   "display_name": "Python 3 (ipykernel)",
   "language": "python",
   "name": "python3"
  },
  "language_info": {
   "codemirror_mode": {
    "name": "ipython",
    "version": 3
   },
   "file_extension": ".py",
   "mimetype": "text/x-python",
   "name": "python",
   "nbconvert_exporter": "python",
   "pygments_lexer": "ipython3",
   "version": "3.10.8"
  }
 },
 "nbformat": 4,
 "nbformat_minor": 5
}
