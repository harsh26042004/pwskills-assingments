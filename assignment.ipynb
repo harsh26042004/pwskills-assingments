{
 "cells": [
  {
   "cell_type": "code",
   "execution_count": 1,
   "id": "7cbb7c86-f3bc-4ef2-98d3-8a49ed93216d",
   "metadata": {},
   "outputs": [
    {
     "name": "stdout",
     "output_type": "stream",
     "text": [
      "harsh\n",
      "<class 'str'>\n"
     ]
    }
   ],
   "source": [
    "s='harsh'\n",
    "print(s)\n",
    "print(type(s))#we can store string in single, double and triple quotes."
   ]
  },
  {
   "cell_type": "code",
   "execution_count": null,
   "id": "d5215cdc-34dd-463c-a19c-8d9ba0a50e68",
   "metadata": {},
   "outputs": [],
   "source": []
  },
  {
   "cell_type": "code",
   "execution_count": 2,
   "id": "fb81da6f-7978-42a0-ba76-088948d2a34c",
   "metadata": {},
   "outputs": [
    {
     "name": "stdout",
     "output_type": "stream",
     "text": [
      "<class 'str'>\n"
     ]
    }
   ],
   "source": [
    "x='a'\n",
    "print(type(x))\n",
    "#here x is a string type varible because it store a string character in it and we know that any thing which is written in single,double and triple and triple quotes is called string."
   ]
  },
  {
   "cell_type": "code",
   "execution_count": 3,
   "id": "39e51e5a-3f26-4718-9947-d901a8c65f79",
   "metadata": {},
   "outputs": [
    {
     "data": {
      "text/plain": [
       "2"
      ]
     },
     "execution_count": 3,
     "metadata": {},
     "output_type": "execute_result"
    }
   ],
   "source": [
    "a ='Pwskills'\n",
    "a.find('sk')"
   ]
  },
  {
   "cell_type": "code",
   "execution_count": 4,
   "id": "0aeb6a47-1260-4e87-b727-ad3d596b7cf8",
   "metadata": {},
   "outputs": [
    {
     "data": {
      "text/plain": [
       "1"
      ]
     },
     "execution_count": 4,
     "metadata": {},
     "output_type": "execute_result"
    }
   ],
   "source": [
    "a.count('w')"
   ]
  },
  {
   "cell_type": "code",
   "execution_count": 5,
   "id": "a7795eff-ee09-4c06-83a2-6d5e68acba5d",
   "metadata": {},
   "outputs": [
    {
     "data": {
      "text/plain": [
       "8"
      ]
     },
     "execution_count": 5,
     "metadata": {},
     "output_type": "execute_result"
    }
   ],
   "source": [
    "len(a)"
   ]
  },
  {
   "cell_type": "code",
   "execution_count": 6,
   "id": "6f303d8b-d7d7-4cee-adfb-57b22a7dfe8c",
   "metadata": {},
   "outputs": [
    {
     "name": "stdout",
     "output_type": "stream",
     "text": [
      "Harshkumar\n"
     ]
    }
   ],
   "source": [
    "a='Harsh'\n",
    "b='kumar'\n",
    "c=a+b\n",
    "print(c)"
   ]
  },
  {
   "cell_type": "code",
   "execution_count": null,
   "id": "e338fa1c-ab2e-4d5b-b4b7-2c58e05705e5",
   "metadata": {},
   "outputs": [],
   "source": [
    "\n",
    "wor = 'PanaJ1@T//56('\n",
    "lowercase_count=sum(1 for char in wor if char.islower())\n",
    "uppercase_count=sum(1 for char in wor if char.isupper())\n",
    "digit_count=sum(1 for char in wor if char.isdigit())\n",
    "print(f\"total lower case=,{lowercase_count}\")\n",
    "print(f\"total upper case=,{uppercase_count}\")\n",
    "print(f\"total digit=,{digit_count}\")\n"
   ]
  },
  {
   "cell_type": "code",
   "execution_count": null,
   "id": "1fdcd891-9bc3-4e39-ba0b-34b6d8f7a2c4",
   "metadata": {},
   "outputs": [],
   "source": []
  },
  {
   "cell_type": "code",
   "execution_count": null,
   "id": "f448e7a5-b98c-4883-b450-fe9dd773cbff",
   "metadata": {},
   "outputs": [],
   "source": []
  },
  {
   "cell_type": "code",
   "execution_count": null,
   "id": "be0152c5-0a4d-45c2-ae50-bd913c67d994",
   "metadata": {},
   "outputs": [],
   "source": []
  },
  {
   "cell_type": "code",
   "execution_count": null,
   "id": "abe0ef20-97e5-45f4-b7f5-ed59a77b1081",
   "metadata": {},
   "outputs": [],
   "source": []
  },
  {
   "cell_type": "code",
   "execution_count": null,
   "id": "6ddc4000-d7d7-4412-a2b5-8f2be365117c",
   "metadata": {},
   "outputs": [],
   "source": []
  },
  {
   "cell_type": "code",
   "execution_count": null,
   "id": "09091232-89f3-4e45-9921-a62e4799c3d4",
   "metadata": {},
   "outputs": [],
   "source": []
  }
 ],
 "metadata": {
  "kernelspec": {
   "display_name": "Python 3 (ipykernel)",
   "language": "python",
   "name": "python3"
  },
  "language_info": {
   "codemirror_mode": {
    "name": "ipython",
    "version": 3
   },
   "file_extension": ".py",
   "mimetype": "text/x-python",
   "name": "python",
   "nbconvert_exporter": "python",
   "pygments_lexer": "ipython3",
   "version": "3.10.8"
  }
 },
 "nbformat": 4,
 "nbformat_minor": 5
}
